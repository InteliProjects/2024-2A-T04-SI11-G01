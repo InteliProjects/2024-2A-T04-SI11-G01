{
  "nbformat": 4,
  "nbformat_minor": 0,
  "metadata": {
    "colab": {
      "provenance": [],
      "collapsed_sections": [
        "FH29tR3CAnES",
        "5tWaEnvIA21L",
        "aRN-sL8NA8u3",
        "T13V1FFPBFEw",
        "iUc_nHpkBHCI"
      ]
    },
    "kernelspec": {
      "name": "python3",
      "display_name": "Python 3"
    },
    "language_info": {
      "name": "python"
    }
  },
  "cells": [
    {
      "cell_type": "markdown",
      "source": [
        "# Preparação da Rede Neural"
      ],
      "metadata": {
        "id": "rfpCPGZihlc0"
      }
    },
    {
      "cell_type": "markdown",
      "source": [
        "- A arquitetura do modelo foi alocada em uma documentação a parte, ela pode ser vista a partir do seguinte link: https://github.com/Inteli-College/2024-2A-T04-SI11-G01/blob/main/documents/Sprint%202/Programa%C3%A7%C3%A3o%20-%20Sprint%202%20-%20Arquitetura%20da%20rede.md"
      ],
      "metadata": {
        "id": "MLE7P8uQqj2t"
      }
    },
    {
      "cell_type": "markdown",
      "source": [
        "# Separação treino e teste"
      ],
      "metadata": {
        "id": "FH29tR3CAnES"
      }
    },
    {
      "cell_type": "code",
      "source": [
        "df_pipe.info()"
      ],
      "metadata": {
        "colab": {
          "base_uri": "https://localhost:8080/"
        },
        "id": "gxjzouAeUFYz",
        "outputId": "248d8415-3484-449b-e092-53cb677252e7"
      },
      "execution_count": null,
      "outputs": [
        {
          "output_type": "stream",
          "name": "stdout",
          "text": [
            "<class 'pandas.core.frame.DataFrame'>\n",
            "Index: 5397 entries, 17857536 to 17837502\n",
            "Data columns (total 68 columns):\n",
            " #   Column                                    Non-Null Count  Dtype         \n",
            "---  ------                                    --------------  -----         \n",
            " 0   MATRICULA                                 5397 non-null   int64         \n",
            " 1   EMP_CODIGO                                5397 non-null   int64         \n",
            " 2   COD_GRUPO                                 5397 non-null   int64         \n",
            " 3   COD_SETOR_COMERCIAL                       5397 non-null   int64         \n",
            " 4   NUM_QUADRA                                5397 non-null   int64         \n",
            " 5   COD_ROTA_LEITURA                          5397 non-null   int64         \n",
            " 6   SEQ_RESPONSAVEL                           5397 non-null   int64         \n",
            " 7   ECO_RESIDENCIAL                           5397 non-null   int64         \n",
            " 8   ECO_COMERCIAL                             5397 non-null   int64         \n",
            " 9   ECO_INDUSTRIAL                            5397 non-null   int64         \n",
            " 10  ECO_PUBLICA                               5397 non-null   int64         \n",
            " 11  LTR_ATUAL                                 5397 non-null   int64         \n",
            " 12  LTR_COLETADA                              5397 non-null   int64         \n",
            " 13  DAT_LEITURA                               5397 non-null   datetime64[ns]\n",
            " 14  DIAS_LEITURA                              5397 non-null   int64         \n",
            " 15  TIPO_LIGACAO                              5397 non-null   object        \n",
            " 16  CATEGORIA                                 5397 non-null   object        \n",
            " 17  SUB_CATEGORIA                             5397 non-null   object        \n",
            " 18  DSC_OCORRENCIA                            5397 non-null   object        \n",
            " 19  COD_LEITURA_INF_1                         5397 non-null   int64         \n",
            " 20  COD_LEITURA_INF_2                         5397 non-null   int64         \n",
            " 21  COD_LEITURA_INF_3                         5397 non-null   int64         \n",
            " 22  HORA_LEITURA                              5397 non-null   object        \n",
            " 23  VOLUME_ESTIMADO                           5397 non-null   int64         \n",
            " 24  VOLUME_ESTIMADO_ACUM                      5397 non-null   int64         \n",
            " 25  FATURADO_MEDIA                            5397 non-null   object        \n",
            " 26  COD_LEITURA_INT                           5397 non-null   int64         \n",
            " 27  STA_TROCA                                 5397 non-null   object        \n",
            " 28  EXCECAO                                   5397 non-null   object        \n",
            " 29  STA_ACEITA_LEITURA                        5397 non-null   object        \n",
            " 30  COD_LATITUDE                              5397 non-null   float64       \n",
            " 31  COD_LONGITUDE                             5397 non-null   float64       \n",
            " 32  DSC_SIMULTANEA_00NAOENTREGUE              5397 non-null   bool          \n",
            " 33  DSC_SIMULTANEA_01EMMAOS                   5397 non-null   bool          \n",
            " 34  DSC_SIMULTANEA_02CAIXACORREIO             5397 non-null   bool          \n",
            " 35  DSC_SIMULTANEA_03VIZINHO                  5397 non-null   bool          \n",
            " 36  DSC_SIMULTANEA_04FIXADAAOPORTAO           5397 non-null   bool          \n",
            " 37  DSC_SIMULTANEA_05NACAIXADELUZ             5397 non-null   bool          \n",
            " 38  DSC_SIMULTANEA_07CAIXACORREIODANIFICADA   5397 non-null   bool          \n",
            " 39  DSC_SIMULTANEA_10ISENTANAOIMPRESSA        5397 non-null   bool          \n",
            " 40  DSC_SIMULTANEA_51RETIDAENDERESP           5397 non-null   bool          \n",
            " 41  DSC_SIMULTANEA_52RETIDAVALORALTO          5397 non-null   bool          \n",
            " 42  DSC_SIMULTANEA_53RETIDACODIGOLEITURA      5397 non-null   bool          \n",
            " 43  DSC_SIMULTANEA_59RETIDALIGACAOCORTADA     5397 non-null   bool          \n",
            " 44  DSC_SIMULTANEA_60RETIDAMED2XMEDMEDID      5397 non-null   bool          \n",
            " 45  DSC_SIMULTANEA_62RETIDANOIMPRESSA         5397 non-null   bool          \n",
            " 46  DSC_SIMULTANEA_63RETIDAFATURAELETRONICA   5397 non-null   bool          \n",
            " 47  DSC_SIMULTANEA_64RETIDALIGACAOBLOQUEADA   5397 non-null   bool          \n",
            " 48  DSC_SIMULTANEA_66RETIDAMACRO              5397 non-null   bool          \n",
            " 49  DSC_SIMULTANEA_67RETIDAGRANDECLIENTE      5397 non-null   bool          \n",
            " 50  DSC_SIMULTANEA_69RETIDACONSOLIDADO        5397 non-null   bool          \n",
            " 51  DSC_SIMULTANEA_70RETIDASOCIALSOCIOLOGICO  5397 non-null   bool          \n",
            " 52  DSC_SIMULTANEA_71RETIDAULTRASSONICOSEML   5397 non-null   bool          \n",
            " 53  Consumo_Alto                              5397 non-null   int64         \n",
            " 54  Consumo_Medio                             5397 non-null   int64         \n",
            " 55  Consumo_Baixo                             5397 non-null   int64         \n",
            " 56  CONS_MEDIDO_2019-12                       5397 non-null   float64       \n",
            " 57  CONS_MEDIDO_2019-02                       5397 non-null   float64       \n",
            " 58  CONS_MEDIDO_2019-07                       5397 non-null   float64       \n",
            " 59  CONS_MEDIDO_2019-05                       5397 non-null   float64       \n",
            " 60  CONS_MEDIDO_2019-01                       5397 non-null   float64       \n",
            " 61  CONS_MEDIDO_2019-09                       5397 non-null   float64       \n",
            " 62  CONS_MEDIDO_2019-08                       5397 non-null   float64       \n",
            " 63  CONS_MEDIDO_2019-10                       5397 non-null   float64       \n",
            " 64  CONS_MEDIDO_2019-06                       5397 non-null   float64       \n",
            " 65  CONS_MEDIDO_2019-03                       5397 non-null   float64       \n",
            " 66  CONS_MEDIDO_2019-11                       5397 non-null   float64       \n",
            " 67  fraude                                    5397 non-null   int64         \n",
            "dtypes: bool(21), datetime64[ns](1), float64(13), int64(24), object(9)\n",
            "memory usage: 2.1+ MB\n"
          ]
        }
      ]
    },
    {
      "cell_type": "code",
      "source": [
        "# Separando as features e o alvo\n",
        "take_off_columns = ['fraude', 'DAT_LEITURA', 'STA_ACEITA_LEITURA', 'EXCECAO', 'STA_TROCA', 'FATURADO_MEDIA', 'HORA_LEITURA', 'DSC_OCORRENCIA', 'SUB_CATEGORIA', 'CATEGORIA', 'TIPO_LIGACAO']\n",
        "X = df_pipe.drop(take_off_columns, axis=1)\n",
        "y = df_pipe['fraude']\n"
      ],
      "metadata": {
        "id": "V8TvJZg5O_t1"
      },
      "execution_count": null,
      "outputs": []
    },
    {
      "cell_type": "markdown",
      "source": [
        "- reanliasar essa parte devido o downsamplin"
      ],
      "metadata": {
        "id": "JVgx-PuT1zj6"
      }
    },
    {
      "cell_type": "code",
      "source": [
        "# Analisando o desequilíbrio das classes\n",
        "y.value_counts().plot(kind='bar')\n",
        "plt.title('Distribuição das Classes')\n",
        "plt.show()\n",
        "\n",
        "# Aplicando SMOTE para balanceamento\n",
        "smote = SMOTE(random_state=42)\n",
        "X_balanced, y_balanced = smote.fit_resample(X, y)\n",
        "\n",
        "# Verificando a nova distribuição das classes\n",
        "y_balanced.value_counts().plot(kind='bar')\n",
        "plt.title('Distribuição das Classes Após SMOTE')\n",
        "plt.show()"
      ],
      "metadata": {
        "id": "OBNZb7D1AySg"
      },
      "execution_count": null,
      "outputs": []
    },
    {
      "cell_type": "code",
      "source": [],
      "metadata": {
        "id": "ZkrjJhVQBFRs"
      },
      "execution_count": null,
      "outputs": []
    },
    {
      "cell_type": "code",
      "source": [
        "# Dividindo em treino e teste\n",
        "X_train, X_test, y_train, y_test = train_test_split(X, y, test_size=0.3, random_state=42)\n",
        "X_train, X_test, y_train, y_test = train_test_split(X_balanced, y_balanced, test_size=0.3,  random_state=42)"
      ],
      "metadata": {
        "id": "9NobB7XyAwGF"
      },
      "execution_count": null,
      "outputs": []
    },
    {
      "cell_type": "markdown",
      "source": [
        "# Compilação do modelo e estruturação da rede"
      ],
      "metadata": {
        "id": "5tWaEnvIA21L"
      }
    },
    {
      "cell_type": "code",
      "source": [
        "def create_model():\n",
        "  # Define a arquitetura do modelo (arquitetura em pirâmide)\n",
        "  return Sequential([\n",
        "    Input(shape=(X_train.shape[1],)),\n",
        "    Dense(256, activation='relu'),\n",
        "    Dense(128, activation='relu'),\n",
        "    Dense(64, activation='relu'),\n",
        "    Dense(32, activation='relu'),\n",
        "    Dense(16, activation='relu'),\n",
        "    Dense(1, activation='sigmoid')\n",
        "  ])"
      ],
      "metadata": {
        "id": "YijGbr6IA37e"
      },
      "execution_count": null,
      "outputs": []
    },
    {
      "cell_type": "code",
      "source": [
        "model = create_model()\n",
        "\n",
        "# Compilando o modelo\n",
        "model.compile(\n",
        "      optimizer= Lion(learning_rate=0.01),\n",
        "      loss='binary_crossentropy',\n",
        "      metrics=['accuracy',\n",
        "               tf.keras.metrics.Precision(),\n",
        "               tf.keras.metrics.Recall()])\n",
        "\n",
        "model.summary()"
      ],
      "metadata": {
        "id": "bDQHUpj0Q2-4"
      },
      "execution_count": null,
      "outputs": []
    },
    {
      "cell_type": "code",
      "source": [
        "# Definindo o early stopping\n",
        "earlyStop = EarlyStopping(monitor='val_loss', patience=5, restore_best_weights=True) # aqui demonstra a utilização do early stopping, tomar cuidado pra quando iremos parar"
      ],
      "metadata": {
        "id": "Ja5JuYSiCWF9"
      },
      "execution_count": null,
      "outputs": []
    },
    {
      "cell_type": "markdown",
      "source": [
        "# Aplicação do dataset na rede e Treinamento"
      ],
      "metadata": {
        "id": "aRN-sL8NA8u3"
      }
    },
    {
      "cell_type": "markdown",
      "source": [
        "- testar rodar o modelo, tirando o earlystopping"
      ],
      "metadata": {
        "id": "fqXA4hld2gBJ"
      }
    },
    {
      "cell_type": "code",
      "source": [
        "# Treinando o modelo\n",
        "history = model.fit(X_train,\n",
        "                    y_train,\n",
        "                    epochs=120,\n",
        "                    batch_size=64,\n",
        "                    callbacks=[earlyStop],\n",
        "                    validation_data=(X_test, y_test))"
      ],
      "metadata": {
        "colab": {
          "base_uri": "https://localhost:8080/"
        },
        "id": "v6MppOdbTUP5",
        "outputId": "a3f2dd34-dcba-489e-aef7-153fca0c8a6d"
      },
      "execution_count": null,
      "outputs": [
        {
          "output_type": "stream",
          "name": "stdout",
          "text": [
            "Epoch 1/40\n",
            "\u001b[1m432/432\u001b[0m \u001b[32m━━━━━━━━━━━━━━━━━━━━\u001b[0m\u001b[37m\u001b[0m \u001b[1m2s\u001b[0m 3ms/step - accuracy: 0.5402 - loss: 129781.8438 - val_accuracy: 0.5639 - val_loss: 0.6854\n",
            "Epoch 2/40\n",
            "\u001b[1m432/432\u001b[0m \u001b[32m━━━━━━━━━━━━━━━━━━━━\u001b[0m\u001b[37m\u001b[0m \u001b[1m1s\u001b[0m 2ms/step - accuracy: 0.5567 - loss: 0.6875 - val_accuracy: 0.5639 - val_loss: 0.6880\n",
            "Epoch 3/40\n",
            "\u001b[1m432/432\u001b[0m \u001b[32m━━━━━━━━━━━━━━━━━━━━\u001b[0m\u001b[37m\u001b[0m \u001b[1m1s\u001b[0m 2ms/step - accuracy: 0.5602 - loss: 0.6880 - val_accuracy: 0.5639 - val_loss: 0.6850\n",
            "Epoch 4/40\n",
            "\u001b[1m432/432\u001b[0m \u001b[32m━━━━━━━━━━━━━━━━━━━━\u001b[0m\u001b[37m\u001b[0m \u001b[1m1s\u001b[0m 2ms/step - accuracy: 0.5450 - loss: 0.6910 - val_accuracy: 0.5639 - val_loss: 0.6850\n",
            "Epoch 5/40\n",
            "\u001b[1m432/432\u001b[0m \u001b[32m━━━━━━━━━━━━━━━━━━━━\u001b[0m\u001b[37m\u001b[0m \u001b[1m1s\u001b[0m 2ms/step - accuracy: 0.5585 - loss: 0.6877 - val_accuracy: 0.5639 - val_loss: 0.6850\n",
            "Epoch 6/40\n",
            "\u001b[1m432/432\u001b[0m \u001b[32m━━━━━━━━━━━━━━━━━━━━\u001b[0m\u001b[37m\u001b[0m \u001b[1m1s\u001b[0m 2ms/step - accuracy: 0.5602 - loss: 0.6870 - val_accuracy: 0.5639 - val_loss: 0.6910\n",
            "Epoch 7/40\n",
            "\u001b[1m432/432\u001b[0m \u001b[32m━━━━━━━━━━━━━━━━━━━━\u001b[0m\u001b[37m\u001b[0m \u001b[1m1s\u001b[0m 2ms/step - accuracy: 0.5462 - loss: 0.6898 - val_accuracy: 0.5639 - val_loss: 0.6851\n",
            "Epoch 8/40\n",
            "\u001b[1m432/432\u001b[0m \u001b[32m━━━━━━━━━━━━━━━━━━━━\u001b[0m\u001b[37m\u001b[0m \u001b[1m1s\u001b[0m 2ms/step - accuracy: 0.5702 - loss: 0.6840 - val_accuracy: 0.5639 - val_loss: 0.6888\n",
            "Epoch 9/40\n",
            "\u001b[1m432/432\u001b[0m \u001b[32m━━━━━━━━━━━━━━━━━━━━\u001b[0m\u001b[37m\u001b[0m \u001b[1m1s\u001b[0m 2ms/step - accuracy: 0.5643 - loss: 0.6865 - val_accuracy: 0.5639 - val_loss: 0.6854\n",
            "Epoch 10/40\n",
            "\u001b[1m432/432\u001b[0m \u001b[32m━━━━━━━━━━━━━━━━━━━━\u001b[0m\u001b[37m\u001b[0m \u001b[1m1s\u001b[0m 2ms/step - accuracy: 0.5687 - loss: 0.6846 - val_accuracy: 0.5639 - val_loss: 0.6873\n",
            "Epoch 11/40\n",
            "\u001b[1m432/432\u001b[0m \u001b[32m━━━━━━━━━━━━━━━━━━━━\u001b[0m\u001b[37m\u001b[0m \u001b[1m1s\u001b[0m 2ms/step - accuracy: 0.5340 - loss: 0.6892 - val_accuracy: 0.5639 - val_loss: 0.6861\n",
            "Epoch 12/40\n",
            "\u001b[1m432/432\u001b[0m \u001b[32m━━━━━━━━━━━━━━━━━━━━\u001b[0m\u001b[37m\u001b[0m \u001b[1m1s\u001b[0m 2ms/step - accuracy: 0.5497 - loss: 0.6886 - val_accuracy: 0.5639 - val_loss: 0.6858\n",
            "Epoch 13/40\n",
            "\u001b[1m432/432\u001b[0m \u001b[32m━━━━━━━━━━━━━━━━━━━━\u001b[0m\u001b[37m\u001b[0m \u001b[1m1s\u001b[0m 2ms/step - accuracy: 0.5592 - loss: 0.6882 - val_accuracy: 0.5639 - val_loss: 0.6850\n",
            "Epoch 14/40\n",
            "\u001b[1m432/432\u001b[0m \u001b[32m━━━━━━━━━━━━━━━━━━━━\u001b[0m\u001b[37m\u001b[0m \u001b[1m1s\u001b[0m 2ms/step - accuracy: 0.5554 - loss: 0.6896 - val_accuracy: 0.5639 - val_loss: 0.6880\n",
            "Epoch 15/40\n",
            "\u001b[1m432/432\u001b[0m \u001b[32m━━━━━━━━━━━━━━━━━━━━\u001b[0m\u001b[37m\u001b[0m \u001b[1m1s\u001b[0m 2ms/step - accuracy: 0.5758 - loss: 0.6846 - val_accuracy: 0.5639 - val_loss: 0.6854\n",
            "Epoch 16/40\n",
            "\u001b[1m432/432\u001b[0m \u001b[32m━━━━━━━━━━━━━━━━━━━━\u001b[0m\u001b[37m\u001b[0m \u001b[1m1s\u001b[0m 2ms/step - accuracy: 0.5412 - loss: 0.6920 - val_accuracy: 0.5639 - val_loss: 0.6851\n",
            "Epoch 17/40\n",
            "\u001b[1m432/432\u001b[0m \u001b[32m━━━━━━━━━━━━━━━━━━━━\u001b[0m\u001b[37m\u001b[0m \u001b[1m1s\u001b[0m 2ms/step - accuracy: 0.5582 - loss: 0.6880 - val_accuracy: 0.5639 - val_loss: 0.6890\n",
            "Epoch 18/40\n",
            "\u001b[1m432/432\u001b[0m \u001b[32m━━━━━━━━━━━━━━━━━━━━\u001b[0m\u001b[37m\u001b[0m \u001b[1m1s\u001b[0m 2ms/step - accuracy: 0.5637 - loss: 0.6848 - val_accuracy: 0.5639 - val_loss: 0.6851\n",
            "Epoch 19/40\n",
            "\u001b[1m432/432\u001b[0m \u001b[32m━━━━━━━━━━━━━━━━━━━━\u001b[0m\u001b[37m\u001b[0m \u001b[1m1s\u001b[0m 2ms/step - accuracy: 0.5620 - loss: 0.6862 - val_accuracy: 0.5639 - val_loss: 0.6850\n",
            "Epoch 20/40\n",
            "\u001b[1m432/432\u001b[0m \u001b[32m━━━━━━━━━━━━━━━━━━━━\u001b[0m\u001b[37m\u001b[0m \u001b[1m1s\u001b[0m 3ms/step - accuracy: 0.5508 - loss: 0.6898 - val_accuracy: 0.5639 - val_loss: 0.6921\n",
            "Epoch 21/40\n",
            "\u001b[1m432/432\u001b[0m \u001b[32m━━━━━━━━━━━━━━━━━━━━\u001b[0m\u001b[37m\u001b[0m \u001b[1m1s\u001b[0m 2ms/step - accuracy: 0.5757 - loss: 0.6852 - val_accuracy: 0.5639 - val_loss: 0.6850\n",
            "Epoch 22/40\n",
            "\u001b[1m432/432\u001b[0m \u001b[32m━━━━━━━━━━━━━━━━━━━━\u001b[0m\u001b[37m\u001b[0m \u001b[1m1s\u001b[0m 2ms/step - accuracy: 0.5789 - loss: 0.6809 - val_accuracy: 0.5639 - val_loss: 0.6850\n",
            "Epoch 23/40\n",
            "\u001b[1m432/432\u001b[0m \u001b[32m━━━━━━━━━━━━━━━━━━━━\u001b[0m\u001b[37m\u001b[0m \u001b[1m1s\u001b[0m 2ms/step - accuracy: 0.5551 - loss: 0.6892 - val_accuracy: 0.5639 - val_loss: 0.6850\n",
            "Epoch 24/40\n",
            "\u001b[1m432/432\u001b[0m \u001b[32m━━━━━━━━━━━━━━━━━━━━\u001b[0m\u001b[37m\u001b[0m \u001b[1m1s\u001b[0m 3ms/step - accuracy: 0.5638 - loss: 0.6867 - val_accuracy: 0.5639 - val_loss: 0.6851\n",
            "Epoch 25/40\n",
            "\u001b[1m432/432\u001b[0m \u001b[32m━━━━━━━━━━━━━━━━━━━━\u001b[0m\u001b[37m\u001b[0m \u001b[1m1s\u001b[0m 2ms/step - accuracy: 0.5650 - loss: 0.6863 - val_accuracy: 0.5639 - val_loss: 0.6898\n",
            "Epoch 26/40\n",
            "\u001b[1m432/432\u001b[0m \u001b[32m━━━━━━━━━━━━━━━━━━━━\u001b[0m\u001b[37m\u001b[0m \u001b[1m1s\u001b[0m 2ms/step - accuracy: 0.5690 - loss: 0.6871 - val_accuracy: 0.5639 - val_loss: 0.6852\n",
            "Epoch 27/40\n",
            "\u001b[1m432/432\u001b[0m \u001b[32m━━━━━━━━━━━━━━━━━━━━\u001b[0m\u001b[37m\u001b[0m \u001b[1m1s\u001b[0m 2ms/step - accuracy: 0.5567 - loss: 0.6889 - val_accuracy: 0.5639 - val_loss: 0.6850\n",
            "Epoch 28/40\n",
            "\u001b[1m432/432\u001b[0m \u001b[32m━━━━━━━━━━━━━━━━━━━━\u001b[0m\u001b[37m\u001b[0m \u001b[1m1s\u001b[0m 2ms/step - accuracy: 0.5592 - loss: 0.6867 - val_accuracy: 0.5639 - val_loss: 0.6861\n",
            "Epoch 29/40\n",
            "\u001b[1m432/432\u001b[0m \u001b[32m━━━━━━━━━━━━━━━━━━━━\u001b[0m\u001b[37m\u001b[0m \u001b[1m1s\u001b[0m 2ms/step - accuracy: 0.5572 - loss: 0.6869 - val_accuracy: 0.5639 - val_loss: 0.6888\n",
            "Epoch 30/40\n",
            "\u001b[1m432/432\u001b[0m \u001b[32m━━━━━━━━━━━━━━━━━━━━\u001b[0m\u001b[37m\u001b[0m \u001b[1m1s\u001b[0m 2ms/step - accuracy: 0.5520 - loss: 0.6882 - val_accuracy: 0.5639 - val_loss: 0.6854\n",
            "Epoch 31/40\n",
            "\u001b[1m432/432\u001b[0m \u001b[32m━━━━━━━━━━━━━━━━━━━━\u001b[0m\u001b[37m\u001b[0m \u001b[1m1s\u001b[0m 2ms/step - accuracy: 0.5540 - loss: 0.6894 - val_accuracy: 0.5639 - val_loss: 0.6850\n",
            "Epoch 32/40\n",
            "\u001b[1m432/432\u001b[0m \u001b[32m━━━━━━━━━━━━━━━━━━━━\u001b[0m\u001b[37m\u001b[0m \u001b[1m1s\u001b[0m 2ms/step - accuracy: 0.5723 - loss: 0.6846 - val_accuracy: 0.5639 - val_loss: 0.6908\n"
          ]
        }
      ]
    },
    {
      "cell_type": "code",
      "source": [
        "# Avaliar o modelo no conjunto de teste\n",
        "loss, accuracy, f1_score, precision, recall = model.evaluate(X_test, y_test)\n",
        "print(f'Loss: {loss}, Accuracy: {accuracy}, F1-Score: {f1_score}, Precision: {precision}, Recall: {recall}')"
      ],
      "metadata": {
        "id": "R18Wv8cGC3zJ"
      },
      "execution_count": null,
      "outputs": []
    },
    {
      "cell_type": "markdown",
      "source": [
        "# Analise de resultados"
      ],
      "metadata": {
        "id": "T13V1FFPBFEw"
      }
    },
    {
      "cell_type": "code",
      "source": [
        "# Preparando os dados para o plot\n",
        "epochs = list(range(1, len(history.history['loss']) + 1))\n",
        "history_df = pd.DataFrame({\n",
        "    'Epoch': epochs,\n",
        "    'Training Loss': history.history['loss'],\n",
        "    'Validation Loss': history.history['val_loss'],\n",
        "    'Training Accuracy': history.history['accuracy'],\n",
        "    'Validation Accuracy': history.history['val_accuracy']\n",
        "})\n",
        "\n",
        "# Plotando a perda durante o treinamento\n",
        "fig_loss = px.line(history_df, x='Epoch', y=['Training Loss', 'Validation Loss'],\n",
        "                   labels={'value': 'Loss', 'variable': 'Type'},\n",
        "                   title='Loss during Training')\n",
        "fig_loss.show()\n",
        "\n",
        "# Plotando a acurácia durante o treinamento\n",
        "fig_accuracy = px.line(history_df, x='Epoch', y=['Training Accuracy', 'Validation Accuracy'],\n",
        "                       labels={'value': 'Accuracy', 'variable': 'Type'},\n",
        "                       title='Accuracy during Training')\n",
        "fig_accuracy.show()"
      ],
      "metadata": {
        "id": "0JdS2cMGBGrp"
      },
      "execution_count": null,
      "outputs": []
    },
    {
      "cell_type": "markdown",
      "source": [
        "# Import do modelo para arquivo pickel - .pkl"
      ],
      "metadata": {
        "id": "iUc_nHpkBHCI"
      }
    },
    {
      "cell_type": "code",
      "source": [],
      "metadata": {
        "id": "CGImxquOBKuK"
      },
      "execution_count": null,
      "outputs": []
    }
  ]
}